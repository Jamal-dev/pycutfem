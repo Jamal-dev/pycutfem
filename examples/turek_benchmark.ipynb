{
 "cells": [
  {
   "cell_type": "markdown",
   "id": "4de40030-14b2-4db1-915d-f6b1166029ec",
   "metadata": {},
   "source": [
    "# Test case 2D-2 (unsteady)"
   ]
  },
  {
   "cell_type": "code",
   "execution_count": 1,
   "id": "6b7badcb",
   "metadata": {},
   "outputs": [
    {
     "name": "stdout",
     "output_type": "stream",
     "text": [
      "Numba is set to use 16 threads.\n"
     ]
    }
   ],
   "source": [
    "import numpy as np\n",
    "import time\n",
    "import scipy.sparse.linalg as sp_la\n",
    "import matplotlib.pyplot as plt\n",
    "import numba\n",
    "import os\n",
    "\n",
    "# --- Numba configuration ---\n",
    "try:\n",
    "    num_cores = os.cpu_count()\n",
    "    numba.set_num_threads(num_cores)\n",
    "    print(f\"Numba is set to use {numba.get_num_threads()} threads.\")\n",
    "except (ImportError, AttributeError):\n",
    "    print(\"Numba not found or configured. Running in pure Python mode.\")\n",
    "\n",
    "# --- Core pycutfem imports ---\n",
    "from pycutfem.core.mesh import Mesh\n",
    "from pycutfem.core.dofhandler import DofHandler\n",
    "from pycutfem.utils.meshgen import structured_quad\n",
    "from pycutfem.fem.mixedelement import MixedElement\n",
    "from pycutfem.core.levelset import CircleLevelSet\n",
    "from pycutfem.utils.domain_manager import get_domain_bitset\n",
    "\n",
    "# --- UFL-like imports ---\n",
    "from pycutfem.ufl.functionspace import FunctionSpace\n",
    "from pycutfem.ufl.expressions import (\n",
    "    TrialFunction, TestFunction, VectorTrialFunction, VectorTestFunction,\n",
    "    Function, VectorFunction, Constant, grad, inner, dot, div, jump, avg, FacetNormal, CellDiameter\n",
    ")\n",
    "from pycutfem.ufl.measures import dx, dS, dGhost, dInterface\n",
    "from pycutfem.ufl.forms import BoundaryCondition, Equation\n",
    "from pycutfem.solvers.nonlinear_solver import NewtonSolver, NewtonParameters, TimeStepperParameters\n",
    "from pycutfem.ufl.compilers import FormCompiler"
   ]
  },
  {
   "cell_type": "code",
   "execution_count": 2,
   "id": "20209dbe",
   "metadata": {},
   "outputs": [
    {
     "name": "stdout",
     "output_type": "stream",
     "text": [
      "--- Setting up the Turek benchmark (2D-2) for flow around a cylinder ---\n",
      "Reynolds number (Re): 100.00\n"
     ]
    }
   ],
   "source": [
    "# ============================================================================\n",
    "#    1. BENCHMARK PROBLEM SETUP\n",
    "# ============================================================================\n",
    "print(\"--- Setting up the Turek benchmark (2D-2) for flow around a cylinder ---\")\n",
    "\n",
    "# --- Geometry and Fluid Properties ---\n",
    "H = 0.41  # Channel height\n",
    "L = 2.2   # Channel length\n",
    "D = 0.1   # Cylinder diameter\n",
    "c_x, c_y = 0.2, 0.2  # Cylinder center\n",
    "rho = 1.0  # Density\n",
    "mu = 1e-3  # Viscosity\n",
    "U_mean = 1.0 # Mean inflow velocity\n",
    "Re = rho * U_mean * D / mu\n",
    "print(f\"Reynolds number (Re): {Re:.2f}\")"
   ]
  },
  {
   "cell_type": "code",
   "execution_count": 3,
   "id": "403371fa",
   "metadata": {},
   "outputs": [],
   "source": [
    "# --- Mesh ---\n",
    "# A finer mesh is needed for this benchmark\n",
    "NX, NY = 40, 60\n",
    "# NX, NY = 40, 40\n",
    "poly_order = 2\n",
    "nodes, elems, _, corners = structured_quad(L, H, nx=NX, ny=NY, poly_order=poly_order)\n",
    "mesh = Mesh(nodes=nodes, element_connectivity=elems, elements_corner_nodes=corners, element_type=\"quad\", poly_order=poly_order)\n",
    "\n",
    "# ============================================================================\n",
    "#    2. BOUNDARY CONDITIONS\n",
    "# ============================================================================\n",
    "\n",
    "# --- Tag Boundaries ---\n",
    "bc_tags = {\n",
    "    'inlet':  lambda x, y: np.isclose(x, 0),\n",
    "    'outlet': lambda x, y: np.isclose(x, L),\n",
    "    'walls':  lambda x, y: np.isclose(y, 0) | np.isclose(y, H),\n",
    "}\n",
    "mesh.tag_boundary_edges(bc_tags)\n",
    "\n",
    "# --- Define Parabolic Inflow Profile ---\n",
    "def parabolic_inflow(x, y):\n",
    "    return 4 * U_mean * y * (H - y) / (H**2)\n",
    "\n",
    "# --- Define Boundary Conditions List ---\n",
    "bcs = [\n",
    "    BoundaryCondition('ux', 'dirichlet', 'inlet', parabolic_inflow),\n",
    "    BoundaryCondition('uy', 'dirichlet', 'inlet', lambda x, y: 0.0),\n",
    "    BoundaryCondition('ux', 'dirichlet', 'walls', lambda x, y: 0.0),\n",
    "    BoundaryCondition('uy', 'dirichlet', 'walls', lambda x, y: 0.0),\n",
    "    # No-slip on the cylinder is handled by the CutFEM formulation\n",
    "    # \"Do-nothing\" at the outlet is the natural BC\n",
    "]\n",
    "\n",
    "# Homogeneous BCs for Jacobian assembly\n",
    "bcs_homog = [BoundaryCondition(bc.field, bc.method, bc.domain_tag, lambda x, y: 0.0) for bc in bcs]\n",
    "\n"
   ]
  },
  {
   "cell_type": "code",
   "execution_count": 4,
   "id": "c243c383",
   "metadata": {},
   "outputs": [
    {
     "name": "stdout",
     "output_type": "stream",
     "text": [
      "=== DofHandler (CG) ===\n",
      "        ux: 9801 DOFs @ offset 0\n",
      "        uy: 9801 DOFs @ offset 9\n",
      "         p: 2501 DOFs @ offset 18\n",
      "  total : 22103\n",
      "Number of interface edges: 56\n",
      "Number of ghost edges: 34\n"
     ]
    }
   ],
   "source": [
    "# --- Level Set for the Cylinder Obstacle ---\n",
    "level_set = CircleLevelSet(center=(c_x, c_y), radius=D / 2.0)\n",
    "mesh.classify_elements(level_set)\n",
    "mesh.classify_edges(level_set)\n",
    "mesh.build_interface_segments(level_set=level_set)\n",
    "\n",
    "# --- Define Domains with BitSets ---\n",
    "fluid_domain = get_domain_bitset(mesh, \"element\", \"outside\")\n",
    "cut_domain = get_domain_bitset(mesh, \"element\", \"cut\")\n",
    "ghost_edges = get_domain_bitset(mesh, \"edge\", \"ghost\")\n",
    "physical_domain = fluid_domain | cut_domain\n",
    "\n",
    "# --- Finite Element Space and DofHandler ---\n",
    "# Taylor-Hood elements (Q2 for velocity, Q1 for pressure)\n",
    "mixed_element = MixedElement(mesh, field_specs={'ux': 2, 'uy': 2, 'p': 1})\n",
    "dof_handler = DofHandler(mixed_element, method='cg')\n",
    "dof_handler.info()\n",
    "\n",
    "print(f\"Number of interface edges: {mesh.edge_bitset('interface').cardinality()}\")\n",
    "print(f\"Number of ghost edges: {ghost_edges.cardinality()}\")"
   ]
  },
  {
   "cell_type": "code",
   "execution_count": null,
   "id": "66911fa6",
   "metadata": {},
   "outputs": [],
   "source": []
  },
  {
   "cell_type": "code",
   "execution_count": 5,
   "id": "4f966ae5",
   "metadata": {},
   "outputs": [
    {
     "name": "stdout",
     "output_type": "stream",
     "text": [
      "\n",
      "--- Defining the UFL weak form for Navier-Stokes with ghost penalty ---\n"
     ]
    }
   ],
   "source": [
    "# ============================================================================\n",
    "#    3. UFL FORMULATION WITH GHOST PENALTY\n",
    "# ============================================================================\n",
    "print(\"\\n--- Defining the UFL weak form for Navier-Stokes with ghost penalty ---\")\n",
    "\n",
    "# --- Function Spaces and Functions ---\n",
    "velocity_space = FunctionSpace(name=\"velocity\", field_names=['ux', 'uy'],dim=1)\n",
    "pressure_space = FunctionSpace(name=\"pressure\", field_names=['p'], dim=0)\n",
    "\n",
    "# Trial and Test functions\n",
    "du = VectorTrialFunction(space=velocity_space, dof_handler=dof_handler)\n",
    "dp = TrialFunction(name='trial_pressure', field_name='p', dof_handler=dof_handler)\n",
    "v = VectorTestFunction(space=velocity_space, dof_handler=dof_handler)\n",
    "q = TestFunction(name='test_pressure', field_name='p', dof_handler=dof_handler)\n",
    "\n",
    "# Solution functions at current (k) and previous (n) time steps\n",
    "u_k = VectorFunction(name=\"u_k\", field_names=['ux', 'uy'], dof_handler=dof_handler)\n",
    "p_k = Function(name=\"p_k\", field_name='p', dof_handler=dof_handler)\n",
    "u_n = VectorFunction(name=\"u_n\", field_names=['ux', 'uy'], dof_handler=dof_handler)\n",
    "p_n = Function(name=\"p_n\", field_name='p', dof_handler=dof_handler)\n",
    "\n",
    "# --- Parameters ---\n",
    "dt = Constant(0.02)\n",
    "theta = Constant(0.5) # Crank-Nicolson\n",
    "mu_const = Constant(mu)\n",
    "rho_const = Constant(rho)"
   ]
  },
  {
   "cell_type": "code",
   "execution_count": 6,
   "id": "d384cdd3",
   "metadata": {},
   "outputs": [],
   "source": [
    "from pycutfem.ufl.expressions import Derivative\n",
    "def grad_inner(u, v):\n",
    "    if getattr(u, \"num_components\", 1) == 1:  # scalar case\n",
    "        return _grad_comp(u, v)\n",
    "\n",
    "    # vector case: sum component-wise\n",
    "    if u.numcomponents == v.num_components == 2:\n",
    "        return (\n",
    "            Derivative(u[0], 1, 0) * Derivative(v[0], 1, 0)+\n",
    "            Derivative(u[0], 0, 1) * Derivative(v[0], 0, 1) +\n",
    "            Derivative(u[1], 1, 0) * Derivative(v[1], 1, 0) +\n",
    "            Derivative(u[1], 0, 1) * Derivative(v[1], 0, 1)\n",
    "        )\n",
    "    else : raise ValueError(\"Unsupported number of components for gradient inner product.\")\n",
    "\n",
    "\n",
    "def _grad_comp(a, b):\n",
    "    return (Derivative(a,1,0) * Derivative(b, 1,0) + Derivative(a, 0, 1) * Derivative(b, 0, 1))\n",
    "\n",
    "dx_phys  = dx(physical_domain)               # volume\n",
    "dΓ        = dInterface(level_set=level_set)   # interior surface\n",
    "dG       = dGhost(defined_on=mesh.edge_bitset(\"ghost\"), level_set=level_set)\n",
    "\n",
    "n       = FacetNormal()                       # (nx , ny)\n",
    "cell_h  = CellDiameter() # length‑scale per element\n",
    "beta_N  = Constant(10.0 * poly_order**2)      # Nitsche penalty (tweak)\n",
    "\n",
    "def epsilon(u):\n",
    "    \"Symmetric gradient.\"\n",
    "    return 0.5 * (grad(u) + grad(u).T)\n",
    "\n",
    "def sigma_dot_n(u_vec, p_scal):\n",
    "    \"\"\"\n",
    "    Expanded form of (σ(u, p) · n) without using the '@' operator.\n",
    "\n",
    "        σ(u, p)·n = μ (∇u + ∇uᵀ)·n  −  p n\n",
    "    \"\"\"\n",
    "    # first term: μ (∇u)·n\n",
    "    a = dot(grad(u_vec), n)\n",
    "    # second term: μ (∇uᵀ)·n\n",
    "    b = dot(grad(u_vec).T, n)\n",
    "    # combine and subtract pressure part\n",
    "    return mu * (a + b) - p_scal * n         # vector of size 2\n",
    "\n",
    "def sigma_dot_n_v(u_vec, p_scal,v_test):\n",
    "    \"\"\"\n",
    "    Expanded form of (σ(u, p) · n) without using the '@' operator.\n",
    "\n",
    "        σ(u, p)·n = μ (∇u + ∇uᵀ)·n  −  p n\n",
    "    \"\"\"\n",
    "    # first term: μ (∇u)·n\n",
    "    a = dot(grad(u_vec), n)\n",
    "    # second term: μ (∇uᵀ)·n\n",
    "    b = dot(grad(u_vec).T, n)\n",
    "    # combine and subtract pressure part\n",
    "    return mu * dot((a + b),v_test) - p_scal * dot(v_test,n)         # vector of size 2\n",
    "\n",
    "# --- Jacobian contribution on Γsolid --------------------------------\n",
    "J_int = (\n",
    "    - sigma_dot_n_v(du, dp, v)           # consistency\n",
    "    - sigma_dot_n_v(v, q, du)           # symmetry\n",
    "    # + beta_N * mu / cell_h * dot(du, v)     # penalty\n",
    "    + beta_N * mu / Constant(0.1) * dot(du, v)     # penalty\n",
    ") * dΓ\n",
    "\n",
    "# --- Residual contribution on Γsolid --------------------------------\n",
    "R_int = (\n",
    "    - sigma_dot_n_v(u_k, p_k, v)\n",
    "    - sigma_dot_n_v(v, q, u_k)\n",
    "    + beta_N * mu / cell_h * dot(u_k, v)\n",
    ") * dΓ\n",
    "\n",
    "# volume ------------------------------------------------------------\n",
    "a_vol = ( rho*dot(du,v)/dt\n",
    "          + theta*rho*dot(dot(grad(u_k), du), v)\n",
    "          + theta*rho*dot(dot(grad(du), u_k), v)\n",
    "          + theta*mu*inner(grad(du), grad(v))\n",
    "          - dp*div(v) + q*div(du) ) * dx_phys\n",
    "\n",
    "r_vol = ( rho*dot(u_k-u_n, v)/dt\n",
    "          + theta*rho*dot(dot(grad(u_k), u_k), v)\n",
    "          + (1-theta)*rho*dot(dot(grad(u_n), u_n), v)\n",
    "          + theta*mu*inner(grad(u_k), grad(v))\n",
    "          + (1-theta)*mu*inner(grad(u_n), grad(v))\n",
    "          - p_k*div(v) + q*div(u_k) ) * dx_phys\n",
    "          \n",
    "# ghost stabilisation (add exactly as in your Poisson tests) --------\n",
    "gamma_0 = Constant(10.0) # Penalty parameter for jump in value\n",
    "gamma_1 = Constant(0.1)  # Penalty parameter for jump in gradient\n",
    "stab = gamma_0 * cell_h * grad_inner(jump(u_k), jump(v)) * dGhost(defined_on=mesh.edge_bitset(\"ghost\"), level_set=level_set)         # u_k, v\n",
    "stab_lin = gamma_1 * cell_h * grad_inner(jump(du), jump(v)) * dGhost(defined_on=mesh.edge_bitset(\"ghost\"), level_set=level_set)      # du, v\n",
    "\n",
    "# complete Jacobian and residual -----------------------------------\n",
    "jacobian_form  = a_vol + J_int + stab_lin\n",
    "residual_form  = r_vol + R_int + stab\n",
    "# jacobian_form  = a_vol\n",
    "# residual_form  = r_vol\n",
    "\n",
    "u_k.nodal_values.fill(0.0); p_k.nodal_values.fill(0.0)\n",
    "u_n.nodal_values.fill(0.0); p_n.nodal_values.fill(0.0)\n",
    "dof_handler.apply_bcs(bcs, u_n, p_n)\n",
    "\n"
   ]
  },
  {
   "cell_type": "code",
   "execution_count": 7,
   "id": "c84c844d",
   "metadata": {},
   "outputs": [
    {
     "name": "stdout",
     "output_type": "stream",
     "text": [
      "Precomputing ghost factors for 9 edges with 9 valid edges.\n",
      "num_elements: 9,n_dofs_per_element: 36\n"
     ]
    },
    {
     "ename": "ValueError",
     "evalue": "matmul: Input operand 1 has a mismatch in its core dimension 0, with gufunc signature (n?,k),(k,m?)->(n?,m?) (size 2 is different from 36)",
     "output_type": "error",
     "traceback": [
      "\u001b[0;31m---------------------------------------------------------------------------\u001b[0m",
      "\u001b[0;31mValueError\u001b[0m                                Traceback (most recent call last)",
      "Cell \u001b[0;32mIn[7], line 18\u001b[0m\n\u001b[1;32m     15\u001b[0m functions      \u001b[38;5;241m=\u001b[39m [u_k, p_k]\n\u001b[1;32m     16\u001b[0m prev_functions \u001b[38;5;241m=\u001b[39m [u_n, p_n]\n\u001b[0;32m---> 18\u001b[0m \u001b[43msolver\u001b[49m\u001b[38;5;241;43m.\u001b[39;49m\u001b[43msolve_time_interval\u001b[49m\u001b[43m(\u001b[49m\u001b[43mfunctions\u001b[49m\u001b[38;5;241;43m=\u001b[39;49m\u001b[43mfunctions\u001b[49m\u001b[43m,\u001b[49m\u001b[43mprev_functions\u001b[49m\u001b[38;5;241;43m=\u001b[39;49m\u001b[43m \u001b[49m\u001b[43mprev_functions\u001b[49m\u001b[43m,\u001b[49m\n\u001b[1;32m     19\u001b[0m \u001b[43m                           \u001b[49m\u001b[43mtime_params\u001b[49m\u001b[38;5;241;43m=\u001b[39;49m\u001b[43mtime_params\u001b[49m\u001b[43m,\u001b[49m\u001b[43m)\u001b[49m\n",
      "File \u001b[0;32m~/Documents/pycutfem/pycutfem/solvers/nonlinear_solver.py:179\u001b[0m, in \u001b[0;36mNewtonSolver.solve_time_interval\u001b[0;34m(self, functions, prev_functions, time_params, aux_functions)\u001b[0m\n\u001b[1;32m    176\u001b[0m dh\u001b[38;5;241m.\u001b[39mapply_bcs(bcs_now, \u001b[38;5;241m*\u001b[39mfunctions)\n\u001b[1;32m    178\u001b[0m \u001b[38;5;66;03m# Newton loop -----------------------------------------\u001b[39;00m\n\u001b[0;32m--> 179\u001b[0m delta_U \u001b[38;5;241m=\u001b[39m \u001b[38;5;28;43mself\u001b[39;49m\u001b[38;5;241;43m.\u001b[39;49m\u001b[43m_newton_loop\u001b[49m\u001b[43m(\u001b[49m\u001b[43mfunctions\u001b[49m\u001b[43m,\u001b[49m\u001b[43m \u001b[49m\u001b[43mprev_functions\u001b[49m\u001b[43m,\u001b[49m\u001b[43m \u001b[49m\u001b[43maux_functions\u001b[49m\u001b[43m,\u001b[49m\u001b[43m \u001b[49m\u001b[43mbcs_now\u001b[49m\u001b[43m)\u001b[49m\n\u001b[1;32m    181\u001b[0m \u001b[38;5;66;03m# Steady‑state test -----------------------------------\u001b[39;00m\n\u001b[1;32m    182\u001b[0m \u001b[38;5;28;01mif\u001b[39;00m (\n\u001b[1;32m    183\u001b[0m     time_params\u001b[38;5;241m.\u001b[39mstop_on_steady\n\u001b[1;32m    184\u001b[0m     \u001b[38;5;129;01mand\u001b[39;00m step \u001b[38;5;241m>\u001b[39m \u001b[38;5;241m0\u001b[39m\n\u001b[1;32m    185\u001b[0m     \u001b[38;5;129;01mand\u001b[39;00m np\u001b[38;5;241m.\u001b[39mlinalg\u001b[38;5;241m.\u001b[39mnorm(delta_U, \u001b[38;5;28mord\u001b[39m\u001b[38;5;241m=\u001b[39mnp\u001b[38;5;241m.\u001b[39minf) \u001b[38;5;241m<\u001b[39m time_params\u001b[38;5;241m.\u001b[39msteady_tol\n\u001b[1;32m    186\u001b[0m ):\n",
      "File \u001b[0;32m~/Documents/pycutfem/pycutfem/solvers/nonlinear_solver.py:214\u001b[0m, in \u001b[0;36mNewtonSolver._newton_loop\u001b[0;34m(self, funcs, prev_funcs, aux_funcs, bcs_now)\u001b[0m\n\u001b[1;32m    211\u001b[0m     current\u001b[38;5;241m.\u001b[39mupdate(aux_funcs)\n\u001b[1;32m    213\u001b[0m \u001b[38;5;66;03m# K_loc, _ = self._jac_runner(current, self.static_args)\u001b[39;00m\n\u001b[0;32m--> 214\u001b[0m K_loc \u001b[38;5;241m=\u001b[39m \u001b[38;5;28;43mself\u001b[39;49m\u001b[38;5;241;43m.\u001b[39;49m\u001b[43m_jac_runner\u001b[49m\u001b[43m(\u001b[49m\u001b[43mcurrent\u001b[49m\u001b[43m,\u001b[49m\u001b[43m \u001b[49m\u001b[38;5;28;43mself\u001b[39;49m\u001b[38;5;241;43m.\u001b[39;49m\u001b[43mstatic_args\u001b[49m\u001b[43m)\u001b[49m[\u001b[38;5;241m0\u001b[39m] \n\u001b[1;32m    215\u001b[0m \u001b[38;5;66;03m# _, F_loc = self._res_runner(current, self.static_args)\u001b[39;00m\n\u001b[1;32m    216\u001b[0m F_loc \u001b[38;5;241m=\u001b[39m \u001b[38;5;28mself\u001b[39m\u001b[38;5;241m.\u001b[39m_res_runner(current, \u001b[38;5;28mself\u001b[39m\u001b[38;5;241m.\u001b[39mstatic_args)[\u001b[38;5;241m1\u001b[39m]\n",
      "File \u001b[0;32m~/Documents/pycutfem/pycutfem/jit/__init__.py:230\u001b[0m, in \u001b[0;36mcompile_multi.<locals>.combined_runner\u001b[0;34m(coeffs, static_args)\u001b[0m\n\u001b[1;32m    228\u001b[0m K_sum \u001b[38;5;241m=\u001b[39m F_sum \u001b[38;5;241m=\u001b[39m J_sum \u001b[38;5;241m=\u001b[39m \u001b[38;5;28;01mNone\u001b[39;00m\n\u001b[1;32m    229\u001b[0m \u001b[38;5;28;01mfor\u001b[39;00m sub \u001b[38;5;129;01min\u001b[39;00m sub_runners:\n\u001b[0;32m--> 230\u001b[0m     K, F, J \u001b[38;5;241m=\u001b[39m \u001b[43msub\u001b[49m\u001b[43m(\u001b[49m\u001b[43mcoeffs\u001b[49m\u001b[43m,\u001b[49m\u001b[43m \u001b[49m\u001b[43mstatic_args\u001b[49m\u001b[43m)\u001b[49m\n\u001b[1;32m    231\u001b[0m     \u001b[38;5;28;01mif\u001b[39;00m K_sum \u001b[38;5;129;01mis\u001b[39;00m \u001b[38;5;28;01mNone\u001b[39;00m:\n\u001b[1;32m    232\u001b[0m         K_sum, F_sum, J_sum \u001b[38;5;241m=\u001b[39m K, F, J\n",
      "File \u001b[0;32m~/Documents/pycutfem/pycutfem/jit/__init__.py:169\u001b[0m, in \u001b[0;36mKernelRunner.__call__\u001b[0;34m(self, functions, static_args)\u001b[0m\n\u001b[1;32m    164\u001b[0m             \u001b[38;5;28mprint\u001b[39m(\u001b[38;5;124mf\u001b[39m\u001b[38;5;124m\"\u001b[39m\u001b[38;5;124m    \u001b[39m\u001b[38;5;132;01m{\u001b[39;00mtag\u001b[38;5;132;01m:\u001b[39;00m\u001b[38;5;124m<20\u001b[39m\u001b[38;5;132;01m}\u001b[39;00m\u001b[38;5;124m type=\u001b[39m\u001b[38;5;132;01m{\u001b[39;00m\u001b[38;5;28mtype\u001b[39m(arr)\u001b[38;5;241m.\u001b[39m\u001b[38;5;18m__name__\u001b[39m\u001b[38;5;132;01m}\u001b[39;00m\u001b[38;5;124m\"\u001b[39m)\n\u001b[1;32m    166\u001b[0m \u001b[38;5;66;03m# ---------------------------------------------------------------\u001b[39;00m\n\u001b[1;32m    167\u001b[0m \u001b[38;5;66;03m# F)  fire the kernel and return its result tuple\u001b[39;00m\n\u001b[1;32m    168\u001b[0m \u001b[38;5;66;03m# ---------------------------------------------------------------\u001b[39;00m\n\u001b[0;32m--> 169\u001b[0m \u001b[38;5;28;01mreturn\u001b[39;00m \u001b[38;5;28;43mself\u001b[39;49m\u001b[38;5;241;43m.\u001b[39;49m\u001b[43mkernel\u001b[49m\u001b[43m(\u001b[49m\u001b[38;5;241;43m*\u001b[39;49m\u001b[43mfinal_args\u001b[49m\u001b[43m)\u001b[49m\n",
      "File \u001b[0;32m~/.cache/pycutfem_jit/_pycutfem_kernel_04103a09e3cc43b8c0367ebea06a396267804e42be877eeef529f27255079cbb.py:56\u001b[0m, in \u001b[0;36mkernel\u001b[0;34m(gdofs_map, node_coords, qp_phys, qw, detJ, J_inv, normals, phis, b_p, b_ux, b_uy, g_ux, g_uy, u_u_k_loc)\u001b[0m\n\u001b[1;32m     54\u001b[0m res_6 \u001b[38;5;241m=\u001b[39m \u001b[38;5;241m0.5\u001b[39m \u001b[38;5;241m*\u001b[39m \u001b[38;5;241m1.0\u001b[39m\n\u001b[1;32m     55\u001b[0m u_k_val_7 \u001b[38;5;241m=\u001b[39m np\u001b[38;5;241m.\u001b[39marray([np\u001b[38;5;241m.\u001b[39mdot(b_ux[e, q], u_u_k_loc_e), np\u001b[38;5;241m.\u001b[39mdot(b_uy[e, q], u_u_k_loc_e)])\n\u001b[0;32m---> 56\u001b[0m phys_grad_basis_8  \u001b[38;5;241m=\u001b[39m \u001b[43mg_ux\u001b[49m\u001b[43m[\u001b[49m\u001b[43me\u001b[49m\u001b[43m,\u001b[49m\u001b[43m \u001b[49m\u001b[43mq\u001b[49m\u001b[43m]\u001b[49m\u001b[43m \u001b[49m\u001b[38;5;241;43m@\u001b[39;49m\u001b[43m \u001b[49m\u001b[43mJ_inv_q\u001b[49m\u001b[38;5;241;43m.\u001b[39;49m\u001b[43mT\u001b[49m\u001b[38;5;241;43m.\u001b[39;49m\u001b[43mcopy\u001b[49m\u001b[43m(\u001b[49m\u001b[43m)\u001b[49m\n\u001b[1;32m     57\u001b[0m grad_val_9 \u001b[38;5;241m=\u001b[39m phys_grad_basis_8\u001b[38;5;241m.\u001b[39mT\u001b[38;5;241m.\u001b[39mcopy() \u001b[38;5;241m@\u001b[39m u_u_k_loc_e\n\u001b[1;32m     58\u001b[0m phys_grad_basis_10  \u001b[38;5;241m=\u001b[39m g_uy[e, q] \u001b[38;5;241m@\u001b[39m J_inv_q\u001b[38;5;241m.\u001b[39mT\u001b[38;5;241m.\u001b[39mcopy()\n",
      "\u001b[0;31mValueError\u001b[0m: matmul: Input operand 1 has a mismatch in its core dimension 0, with gufunc signature (n?,k),(k,m?)->(n?,m?) (size 2 is different from 36)"
     ]
    }
   ],
   "source": [
    "from pycutfem.solvers.nonlinear_solver import NewtonSolver, NewtonParameters, TimeStepperParameters\n",
    "\n",
    "# build residual_form, jacobian_form, dof_handler, mixed_element, bcs, bcs_homog …\n",
    "time_params = TimeStepperParameters(dt=0.1, stop_on_steady=True, steady_tol=1e-6, theta= 0.49)\n",
    "\n",
    "solver = NewtonSolver(\n",
    "    residual_form, jacobian_form,\n",
    "    dof_handler=dof_handler,\n",
    "    mixed_element=mixed_element,\n",
    "    bcs=bcs, bcs_homog=bcs_homog,\n",
    "    newton_params=NewtonParameters(newton_tol=1e-6),\n",
    ")\n",
    "\n",
    "# primary unknowns\n",
    "functions      = [u_k, p_k]\n",
    "prev_functions = [u_n, p_n]\n",
    "\n",
    "solver.solve_time_interval(functions=functions,prev_functions= prev_functions,\n",
    "                           time_params=time_params,)"
   ]
  },
  {
   "cell_type": "code",
   "execution_count": null,
   "id": "7ee383db",
   "metadata": {},
   "outputs": [
    {
     "data": {
      "image/png": "[encoded data removed]",
      "text/plain": [
       "<Figure size 800x800 with 2 Axes>"
      ]
     },
     "metadata": {},
     "output_type": "display_data"
    }
   ],
   "source": [
    "u_n.plot(kind=\"streamline\",\n",
    "         density=4.0,\n",
    "         linewidth=0.8,\n",
    "         cmap=\"plasma\",\n",
    "         title=\"Turek-Schafer\",background = False)"
   ]
  }
 ],
 "metadata": {
  "kernelspec": {
   "display_name": "fenicsx",
   "language": "python",
   "name": "python3"
  },
  "language_info": {
   "codemirror_mode": {
    "name": "ipython",
    "version": 3
   },
   "file_extension": ".py",
   "mimetype": "text/x-python",
   "name": "python",
   "nbconvert_exporter": "python",
   "pygments_lexer": "ipython3",
   "version": "3.12.6"
  }
 },
 "nbformat": 4,
 "nbformat_minor": 5
}
