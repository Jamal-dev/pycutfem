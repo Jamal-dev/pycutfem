{
 "cells": [
  {
   "cell_type": "markdown",
   "id": "4de40030-14b2-4db1-915d-f6b1166029ec",
   "metadata": {},
   "source": [
    "# Linear Elasticity"
   ]
  },
  {
   "cell_type": "code",
   "execution_count": 1,
   "id": "6b7badcb",
   "metadata": {},
   "outputs": [
    {
     "name": "stdout",
     "output_type": "stream",
     "text": [
      "This machine has 8 cores.\n",
      "Numba is set to use 8 threads.\n"
     ]
    }
   ],
   "source": [
    "import numpy as np\n",
    "import time\n",
    "import scipy.sparse.linalg as sp_la\n",
    "import matplotlib.pyplot as plt\n",
    "import numba\n",
    "import os\n",
    "\n",
    "# Get the number of available CPU cores\n",
    "num_cores = os.cpu_count()\n",
    "print(f\"This machine has {num_cores} cores.\")\n",
    "\n",
    "# Set Numba to use all of them\n",
    "numba.set_num_threads(num_cores)\n",
    "print(f\"Numba is set to use {numba.get_num_threads()} threads.\")\n",
    "\n",
    "# --- Core imports ---\n",
    "from pycutfem.core.mesh import Mesh\n",
    "from pycutfem.core.dofhandler import DofHandler\n",
    "from pycutfem.utils.meshgen import structured_quad\n",
    "\n",
    "# --- UFL-like imports ---\n",
    "from pycutfem.ufl.functionspace import FunctionSpace\n",
    "from pycutfem.ufl.expressions import (\n",
    "    TrialFunction, TestFunction, VectorTrialFunction, VectorTestFunction,\n",
    "    Function, VectorFunction, Constant, grad, inner, dot, div\n",
    ")\n",
    "from pycutfem.ufl.measures import dx, dS\n",
    "from pycutfem.ufl.forms import BoundaryCondition, assemble_form, Equation\n",
    "from pycutfem.fem.mixedelement import MixedElement\n",
    "\n",
    "\n",
    "\n",
    "\n"
   ]
  },
  {
   "cell_type": "code",
   "execution_count": 2,
   "id": "99c2dfd1",
   "metadata": {},
   "outputs": [
    {
     "name": "stdout",
     "output_type": "stream",
     "text": [
      "--- Setting up the Cantilever Beam problem ---\n",
      "Mesh created with 1200 elements.\n",
      "DofHandler created with 9882 total DOFs.\n"
     ]
    }
   ],
   "source": [
    "# ============================================================================\n",
    "#    1. PROBLEM SETUP (GEOMETRY, MESH, MATERIAL, LOAD)\n",
    "# ============================================================================\n",
    "print(\"--- Setting up the Cantilever Beam problem ---\")\n",
    "\n",
    "# Beam geometry\n",
    "L, H = 22.0, 1.0\n",
    "# Mesh resolution\n",
    "NX, NY = 40, 30\n",
    "# NX, NY = 8, 8\n",
    "\n",
    "# Material properties (e.g., for steel)\n",
    "E = 1.0e5  # Young's Modulus\n",
    "nu = 0.3   # Poisson's Ratio\n",
    "\n",
    "# Applied total shear force on the right boundary (negative for downward)\n",
    "P_shear = -10.0\n",
    "# Corresponding traction (force per unit area/length)\n",
    "traction_val = P_shear / H\n",
    "\n",
    "# --- Create Mesh ---\n",
    "# We use quadratic elements (poly_order=2) for better accuracy\n",
    "nodes, elems, _, corners = structured_quad(L, H, nx=NX, ny=NY, poly_order=2)\n",
    "mesh = Mesh(nodes=nodes, element_connectivity=elems, elements_corner_nodes=corners, element_type=\"quad\", poly_order=2)\n",
    "\n",
    "# --- Define and Tag Boundaries ---\n",
    "bc_tags = {\n",
    "    'left_wall':  lambda x, y: np.isclose(x, 0),\n",
    "    'right_wall': lambda x, y: np.isclose(x, L),\n",
    "}\n",
    "mesh.tag_boundary_edges(bc_tags)\n",
    "print(f\"Mesh created with {mesh.n_elements} elements.\")\n",
    "\n",
    "\n",
    "\n",
    "# --- Setup MixedElement and DofHandler ---\n",
    "# We have two fields for 2D displacement: 'ux' and 'uy'\n",
    "# Both use quadratic basis functions (poly_order=2)\n",
    "mixed_element = MixedElement(mesh, field_specs={'ux': 2, 'uy': 2})\n",
    "dof_handler = DofHandler(mixed_element, method='cg')\n",
    "print(f\"DofHandler created with {dof_handler.total_dofs} total DOFs.\")\n",
    "\n",
    "# --- Define Dirichlet Boundary Conditions ---\n",
    "# The left wall is clamped, so both ux and uy are zero.\n",
    "dirichlet_bcs = [\n",
    "    BoundaryCondition('ux', 'dirichlet', 'left_wall', lambda x, y: 0.0),\n",
    "    BoundaryCondition('uy', 'dirichlet', 'left_wall', lambda x, y: 0.0),\n",
    "]\n",
    "\n",
    "\n"
   ]
  },
  {
   "cell_type": "code",
   "execution_count": 3,
   "id": "10b6b19f",
   "metadata": {},
   "outputs": [
    {
     "name": "stdout",
     "output_type": "stream",
     "text": [
      "\n",
      "--- Defining the UFL weak form ---\n"
     ]
    }
   ],
   "source": [
    "# ============================================================================\n",
    "#    2. UFL FORMULATION FOR LINEAR ELASTICITY\n",
    "# ============================================================================\n",
    "print(\"\\n--- Defining the UFL weak form ---\")\n",
    "\n",
    "# Define vector function spaces for displacement\n",
    "displacement_space = FunctionSpace(\"displacement\", ['ux', 'uy'])\n",
    "\n",
    "# Trial and Test functions\n",
    "u = VectorTrialFunction(displacement_space, dof_handler=dof_handler)\n",
    "v = VectorTestFunction(displacement_space, dof_handler=dof_handler)\n",
    "\n",
    "# --- Constitutive Law (Stress-Strain Relationship for Plane Stress) ---\n",
    "# Strain tensor (symmetric gradient)\n",
    "def epsilon(vec):\n",
    "    return 0.5*(grad(vec) + grad(vec).T)\n",
    "\n",
    "# Identity matrix\n",
    "I = Constant(np.eye(2))\n",
    "\n",
    "# Lamé parameters for plane stress\n",
    "lmbda = Constant(E * nu / (1 - nu**2))\n",
    "mu = Constant(E / (2 * (1 + nu)))\n",
    "\n",
    "# Stress tensor\n",
    "# def sigma(vec):\n",
    "#     return lmbda * div(vec) * I + 2.0 * mu * epsilon(vec)\n",
    "\n",
    "# --- Define Bilinear and Linear Forms ---\n",
    "# Bilinear form (internal virtual work) -> Stiffness Matrix K\n",
    "a = (lmbda * (div(u) * div(v)) + Constant(2.0)*mu * inner(epsilon(u),epsilon(v))) * dx(metadata={'q':5})\n",
    "\n",
    "t = Constant(np.asarray([0, traction_val]))\n",
    "linear_form = dot(t, v) * dS(mesh.edge_bitset(\"right_wall\"),metadata={'q':5})"
   ]
  },
  {
   "cell_type": "code",
   "execution_count": 4,
   "id": "4505ffb8",
   "metadata": {},
   "outputs": [
    {
     "name": "stdout",
     "output_type": "stream",
     "text": [
      "num_elements: 1200,n_dofs_per_element: 18\n",
      "[Assembler: boundary edge JIT] Using quadrature degree: 5\n",
      "JIT cache miss → compiling _pycutfem_kernel_06ae7da64b9d2ec222af4ac77c0d69c286a8477d9491ce50c6cd0324d426f85b.py\n",
      "num_elements: 30,n_dofs_per_element: 18\n",
      "Solving the sparse linear system...\n"
     ]
    }
   ],
   "source": [
    "K,F = assemble_form(Equation(a,linear_form), dof_handler=dof_handler, bcs = dirichlet_bcs, backend='jit')\n",
    "print(\"Solving the sparse linear system...\")\n",
    "u_sol_vec = sp_la.spsolve(K, F)"
   ]
  },
  {
   "cell_type": "code",
   "execution_count": 5,
   "id": "a0e6f87c",
   "metadata": {},
   "outputs": [],
   "source": [
    "# --- Store Solution in a VectorFunction for plotting/analysis ---\n",
    "solution = VectorFunction(name=\"Displacement\", field_names=['ux', 'uy'], dof_handler=dof_handler)\n",
    "solution.nodal_values = u_sol_vec[solution._g_dofs]\n",
    "# solution.nodal_values = u_sol_vec"
   ]
  },
  {
   "cell_type": "code",
   "execution_count": 6,
   "id": "8e90885d",
   "metadata": {},
   "outputs": [
    {
     "name": "stdout",
     "output_type": "stream",
     "text": [
      "Analytical tip deflection (uy): -4.259200e+00\n",
      "Numerical  tip deflection (uy): -5.866777e-01\n",
      "Relative error: 86.23%\n"
     ]
    }
   ],
   "source": [
    "# ============================================================================\n",
    "# 4. VERIFICATION AND VISUALISATION  (field-aware tip DOF selection)\n",
    "# ============================================================================\n",
    "\n",
    "# analytical tip deflection ---------------------------------------------------\n",
    "I_moment = (1.0 * H**3) / 12.0\n",
    "analytical_deflection = (P_shear * L**3) / (3 * E * I_moment)\n",
    "\n",
    "# ---------------------------------------------------------------------------\n",
    "# Tag the uy-DOF at the free end, first try mid-height, then corner.\n",
    "# tag_dof_by_locator fills dof_handler.dof_tags[tag] with the matching DOF(s)\n",
    "# (there is only one in a conforming CG mesh).\n",
    "# ---------------------------------------------------------------------------\n",
    "dof_handler.tag_dof_by_locator(\n",
    "    tag='tip_mid',\n",
    "    field='uy',\n",
    "    locator=lambda x, y: np.isclose(x, L) and np.isclose(y, H/2),\n",
    "    find_first=True\n",
    ")\n",
    "# if not dof_handler.dof_tags.get('tip_mid'):          # nothing found → fallback\n",
    "#     dof_handler.tag_dof_by_locator(\n",
    "#         tag='tip_corner',\n",
    "#         field='uy',\n",
    "#         locator=lambda x, y: np.isclose(x, L) and np.isclose(y, H),\n",
    "#         find_first=True\n",
    "#     )\n",
    "\n",
    "# pick whichever tag succeeded\n",
    "tip_tag = 'tip_mid' if dof_handler.dof_tags.get('tip_mid') else 'tip_corner'\n",
    "if not dof_handler.dof_tags.get(tip_tag):\n",
    "    raise RuntimeError(\"No DOF found on the beam tip – check mesh resolution.\")\n",
    "\n",
    "tip_uy_dof = next(iter(dof_handler.dof_tags[tip_tag]))   # the single global DOF\n",
    "numerical_deflection = solution.nodal_values[tip_uy_dof]\n",
    "\n",
    "print(f\"Analytical tip deflection (uy): {analytical_deflection:+.6e}\")\n",
    "print(f\"Numerical  tip deflection (uy): {numerical_deflection:+.6e}\")\n",
    "print(f\"Relative error: \"\n",
    "      f\"{abs(numerical_deflection-analytical_deflection)/abs(analytical_deflection):.2%}\")\n",
    "\n",
    "\n"
   ]
  },
  {
   "cell_type": "code",
   "execution_count": 10,
   "id": "55d85e97",
   "metadata": {},
   "outputs": [
    {
     "name": "stdout",
     "output_type": "stream",
     "text": [
      "5021\n",
      "Node ID for tip uy DOF: 2510\n",
      "[22.   0.5]\n",
      "-0.5866776633546664\n",
      "-4.108862469866469\n",
      "Index of min value: 6965\n",
      "Node ID for min value: 3482\n",
      "[22.   0.7]\n",
      "-4.108862469866469\n"
     ]
    }
   ],
   "source": [
    "print(tip_uy_dof)\n",
    "nid   = dof_handler._dof_to_node_map[tip_uy_dof][1]\n",
    "print(f\"Node ID for tip uy DOF: {nid}\")\n",
    "print(mesh.nodes_x_y_pos[nid])\n",
    "print(solution.nodal_values[tip_uy_dof])\n",
    "print(min(solution.nodal_values))\n",
    "min_index = np.argmin(solution.nodal_values)\n",
    "print(\"Index of min value:\", min_index)\n",
    "nid = dof_handler._dof_to_node_map[min_index][1]\n",
    "print(f\"Node ID for min value: {nid}\")\n",
    "print(mesh.nodes_x_y_pos[nid])\n",
    "print(solution.nodal_values[min_index])"
   ]
  },
  {
   "cell_type": "code",
   "execution_count": 8,
   "id": "ccf65079",
   "metadata": {},
   "outputs": [
    {
     "name": "stdout",
     "output_type": "stream",
     "text": [
      "Generating displacement field plot …\n"
     ]
    },
    {
     "data": {
      "image/png": "[encoded data removed]",
      "text/plain": [
       "<Figure size 800x800 with 2 Axes>"
      ]
     },
     "metadata": {},
     "output_type": "display_data"
    }
   ],
   "source": [
    "# optional visualisation ------------------------------------------------------\n",
    "print(\"Generating displacement field plot …\")\n",
    "solution.plot_deformed(displacement=solution,\n",
    "                       exaggeration=1.0,\n",
    "                       kind='quiver',\n",
    "                       background='magnitude',\n",
    "                       scale=100)"
   ]
  },
  {
   "cell_type": "code",
   "execution_count": null,
   "id": "7c6379c6",
   "metadata": {},
   "outputs": [],
   "source": []
  },
  {
   "cell_type": "code",
   "execution_count": 9,
   "id": "8a2a1747",
   "metadata": {},
   "outputs": [
    {
     "data": {
      "image/png": "[encoded data removed]",
      "text/plain": [
       "<Figure size 800x400 with 1 Axes>"
      ]
     },
     "metadata": {},
     "output_type": "display_data"
    }
   ],
   "source": [
    "# one-click GIF (requires ImageMagick or Pillow writer)\n",
    "anim = solution.animate_deformation(solution, exaggeration=10, frames=40)\n",
    "anim.save(\"beam_deflection.gif\", writer=\"pillow\")"
   ]
  }
 ],
 "metadata": {
  "kernelspec": {
   "display_name": "fenicsx-env",
   "language": "python",
   "name": "python3"
  },
  "language_info": {
   "codemirror_mode": {
    "name": "ipython",
    "version": 3
   },
   "file_extension": ".py",
   "mimetype": "text/x-python",
   "name": "python",
   "nbconvert_exporter": "python",
   "pygments_lexer": "ipython3",
   "version": "3.12.5"
  }
 },
 "nbformat": 4,
 "nbformat_minor": 5
}
