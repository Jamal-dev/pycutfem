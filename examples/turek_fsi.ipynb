{
 "cells": [
  {
   "cell_type": "markdown",
   "id": "4de40030-14b2-4db1-915d-f6b1166029ec",
   "metadata": {},
   "source": [
    "# Test case 2D-2 (unsteady)"
   ]
  },
  {
   "cell_type": "code",
   "execution_count": 1,
   "id": "6b7badcb",
   "metadata": {},
   "outputs": [
    {
     "name": "stderr",
     "output_type": "stream",
     "text": [
      "/home/jamal/anaconda3/envs/pycutfem/lib/python3.11/site-packages/numba/np/ufunc/parallel.py:371: NumbaWarning: \u001b[1mThe TBB threading layer requires TBB version 2021 update 6 or later i.e., TBB_INTERFACE_VERSION >= 12060. Found TBB_INTERFACE_VERSION = 12050. The TBB threading layer is disabled.\u001b[0m\n",
      "  warnings.warn(problem)\n"
     ]
    },
    {
     "name": "stdout",
     "output_type": "stream",
     "text": [
      "Numba is set to use 8 threads.\n"
     ]
    }
   ],
   "source": [
    "import numpy as np\n",
    "import time\n",
    "import scipy.sparse.linalg as sp_la\n",
    "import matplotlib.pyplot as plt\n",
    "import numba\n",
    "import os\n",
    "\n",
    "# --- Numba configuration ---\n",
    "try:\n",
    "    num_cores = os.cpu_count()\n",
    "    numba.set_num_threads(num_cores)\n",
    "    print(f\"Numba is set to use {numba.get_num_threads()} threads.\")\n",
    "except (ImportError, AttributeError):\n",
    "    print(\"Numba not found or configured. Running in pure Python mode.\")\n",
    "\n",
    "# --- Core pycutfem imports ---\n",
    "from pycutfem.core.mesh import Mesh\n",
    "from pycutfem.core.dofhandler import DofHandler\n",
    "from pycutfem.utils.meshgen import structured_quad\n",
    "from pycutfem.fem.mixedelement import MixedElement\n",
    "from pycutfem.core.levelset import CircleLevelSet\n",
    "from pycutfem.utils.domain_manager import get_domain_bitset\n",
    "\n",
    "# --- UFL-like imports ---\n",
    "from pycutfem.ufl.functionspace import FunctionSpace\n",
    "from pycutfem.ufl.expressions import (\n",
    "    TrialFunction, TestFunction, VectorTrialFunction, VectorTestFunction,\n",
    "    Function, VectorFunction, Constant, grad, inner, dot, div, jump, avg, FacetNormal, CellDiameter\n",
    ")\n",
    "from pycutfem.ufl.measures import dx, dS, dGhost, dInterface\n",
    "from pycutfem.ufl.forms import BoundaryCondition, Equation\n",
    "from pycutfem.solvers.nonlinear_solver import NewtonSolver, NewtonParameters, TimeStepperParameters\n",
    "from pycutfem.ufl.compilers import FormCompiler"
   ]
  },
  {
   "cell_type": "code",
   "execution_count": 2,
   "id": "20209dbe",
   "metadata": {},
   "outputs": [
    {
     "name": "stdout",
     "output_type": "stream",
     "text": [
      "--- Setting up the Turek benchmark (2D-2) for flow around a cylinder ---\n",
      "Reynolds number (Re): 100.00\n"
     ]
    }
   ],
   "source": [
    "# ============================================================================\n",
    "#    1. BENCHMARK PROBLEM SETUP\n",
    "# ============================================================================\n",
    "print(\"--- Setting up the Turek benchmark (2D-2) for flow around a cylinder ---\")\n",
    "\n",
    "# --- Geometry and Fluid Properties ---\n",
    "H = 0.41  # Channel height\n",
    "L = 2.2   # Channel length\n",
    "D = 0.1   # Cylinder diameter\n",
    "c_x, c_y = 0.2, 0.2  # Cylinder center\n",
    "rho_f = 1.0  # Density for fluid\n",
    "rho_s = 1.0  # Density for solid\n",
    "mu_f = 1e-3  # Viscosity for fluid\n",
    "U_mean = 1.0 # Mean inflow velocity\n",
    "# Lame coefficients for solid\n",
    "_lambda_s = 0.5e6 # Lame's first parameter for solid\n",
    "_mu_s = 2.0e6   # Lame's second parameter for solid\n",
    "Re = rho_f * U_mean * D / mu_f\n",
    "print(f\"Reynolds number (Re): {Re:.2f}\")"
   ]
  },
  {
   "cell_type": "code",
   "execution_count": 3,
   "id": "403371fa",
   "metadata": {},
   "outputs": [],
   "source": [
    "from pycutfem.utils.adaptive_mesh_ls_numba import structured_quad_levelset_adaptive\n",
    "# from pycutfem.utils.adaptive_mesh import structured_quad_levelset_adaptive\n",
    "# --- Mesh ---\n",
    "# A finer mesh is needed for this benchmark\n",
    "NX, NY = 20, 20\n",
    "# NX, NY = 50, 60\n",
    "poly_order = 2\n",
    "level_set = CircleLevelSet(center=(c_x, c_y), radius=D/2.0 ) # needs to correct the radius, also cx modified for debugging\n",
    "\n",
    "# nodes, elems, _, corners = structured_quad(L, H, nx=NX, ny=NY, poly_order=poly_order)\n",
    "\n",
    "nodes, elems, edges, corners = structured_quad_levelset_adaptive(\n",
    "        Lx=L, Ly=H, nx=NX, ny=NY, poly_order=poly_order,\n",
    "        level_set=CircleLevelSet(center=(c_x, c_y), radius=(D/2.0+0.1*D/2.0) ),\n",
    "        max_refine_level=1)          # add a single halo, nothing else\n",
    "mesh = Mesh(nodes=nodes, element_connectivity=elems, elements_corner_nodes=corners, element_type=\"quad\", poly_order=poly_order)\n",
    "\n",
    "# ============================================================================\n",
    "#    2. BOUNDARY CONDITIONS\n",
    "# ============================================================================\n",
    "\n",
    "# --- Tag Boundaries ---\n",
    "bc_tags = {\n",
    "    'inlet':  lambda x, y: np.isclose(x, 0),\n",
    "    'outlet': lambda x, y: np.isclose(x, L),\n",
    "    'walls':  lambda x, y: np.isclose(y, 0) | np.isclose(y, H),\n",
    "}\n",
    "\n",
    "\n",
    "# --- Define Parabolic Inflow Profile ---\n",
    "def parabolic_inflow(x, y):\n",
    "    return 4 * U_mean * y * (H - y) / (H**2)\n",
    "\n",
    "# --- Define Boundary Conditions List ---\n",
    "bcs = [\n",
    "    BoundaryCondition('ux', 'dirichlet', 'inlet', parabolic_inflow),\n",
    "    BoundaryCondition('uy', 'dirichlet', 'inlet', lambda x, y: 0.0),\n",
    "    BoundaryCondition('ux', 'dirichlet', 'walls', lambda x, y: 0.0),\n",
    "    BoundaryCondition('uy', 'dirichlet', 'walls', lambda x, y: 0.0),\n",
    "    # No-slip on the cylinder is handled by the CutFEM formulation\n",
    "    # \"Do-nothing\" at the outlet is the natural BC\n",
    "]\n",
    "\n",
    "# Homogeneous BCs for Jacobian assembly\n",
    "bcs_homog = [BoundaryCondition(bc.field, bc.method, bc.domain_tag, lambda x, y: 0.0) for bc in bcs]\n",
    "\n"
   ]
  },
  {
   "cell_type": "code",
   "execution_count": 4,
   "id": "c243c383",
   "metadata": {},
   "outputs": [
    {
     "name": "stdout",
     "output_type": "stream",
     "text": [
      "=== DofHandler (CG) ===\n",
      "        ux: 2385 DOFs @ offset 0\n",
      "        uy: 2385 DOFs @ offset 9\n",
      "         p: 621 DOFs @ offset 18\n",
      "       vsx: 621 DOFs @ offset 22\n",
      "       vsy: 621 DOFs @ offset 26\n",
      "        dx: 621 DOFs @ offset 30\n",
      "        dy: 621 DOFs @ offset 34\n",
      "  total : 7875\n",
      "Number of interface edges: 20\n",
      "Number of ghost edges: 38\n",
      "Number of cut elements: 20\n",
      "Number of fluid elements: 547\n",
      "Number of solid elements: 5\n",
      "Number of solid ghost edges: 14\n",
      "Number of fluid ghost edges: 26\n"
     ]
    }
   ],
   "source": [
    "# --- Level Set for the Cylinder Obstacle ---\n",
    "\n",
    "\n",
    "mesh.classify_elements(level_set)\n",
    "mesh.classify_edges(level_set)\n",
    "mesh.build_interface_segments(level_set=level_set)\n",
    "mesh.tag_boundary_edges(bc_tags)\n",
    "\n",
    "# --- Define Domains with BitSets ---\n",
    "fluid_domain = get_domain_bitset(mesh, \"element\", \"outside\")\n",
    "solid_domain = get_domain_bitset(mesh, \"element\", \"inside\")\n",
    "cut_domain = get_domain_bitset(mesh, \"element\", \"cut\")\n",
    "ghost_edges = get_domain_bitset(mesh, \"edge\", \"ghost\")\n",
    "fluid_interface_domain = fluid_domain | cut_domain\n",
    "solid_interface_domain = solid_domain | cut_domain\n",
    "solid_ghost_edges = mesh.edge_bitset('ghost_neg')  | mesh.edge_bitset('ghost_both') #| mesh.edge_bitset('interface')\n",
    "fluid_ghost_edges = mesh.edge_bitset('ghost_pos')  | mesh.edge_bitset('ghost_both') #| mesh.edge_bitset('interface')\n",
    "\n",
    "# --- Finite Element Space and DofHandler ---\n",
    "# Taylor-Hood elements (Q2 for velocity, Q1 for pressure)\n",
    "mixed_element = MixedElement(mesh, field_specs={'ux': 2, 'uy': 2, \n",
    "                                                'p': 1\n",
    "                                                ,'vsx':1, 'vsy':1,\n",
    "                                                'dx':1,'dy':1})\n",
    "dof_handler = DofHandler(mixed_element, method='cg')\n",
    "dof_handler.info()\n",
    "\n",
    "print(f\"Number of interface edges: {mesh.edge_bitset('interface').cardinality()}\")\n",
    "print(f\"Number of ghost edges: {ghost_edges.cardinality()}\")\n",
    "print(f\"Number of cut elements: {cut_domain.cardinality()}\")\n",
    "print(f\"Number of fluid elements: {fluid_domain.cardinality()}\")\n",
    "print(f\"Number of solid elements: {solid_domain.cardinality()}\")\n",
    "print(f\"Number of solid ghost edges: {solid_ghost_edges.cardinality()}\")\n",
    "print(f\"Number of fluid ghost edges: {fluid_ghost_edges.cardinality()}\")\n"
   ]
  },
  {
   "cell_type": "code",
   "execution_count": 5,
   "id": "cc270816",
   "metadata": {},
   "outputs": [],
   "source": [
    "dof_handler.tag_dofs_from_element_bitset(\"solid_zone\", \"ux\", \"inside\", strict=True)\n",
    "dof_handler.tag_dofs_from_element_bitset(\"solid_zone\", \"uy\", \"inside\", strict=True)\n",
    "dof_handler.tag_dofs_from_element_bitset(\"solid_zone\", \"p\", \"inside\", strict=True)\n",
    "\n",
    "\n",
    "\n",
    "dof_handler.tag_dofs_from_element_bitset(\"fluid_zone\", \"vsx\", \"outside\", strict=True)\n",
    "dof_handler.tag_dofs_from_element_bitset(\"fluid_zone\", \"vsy\", \"outside\", strict=True)\n",
    "dof_handler.tag_dofs_from_element_bitset(\"fluid_zone\", \"dx\", \"outside\", strict=True)\n",
    "dof_handler.tag_dofs_from_element_bitset(\"fluid_zone\", \"dy\", \"outside\", strict=True)\n",
    "\n",
    "for zone,fields in zip( ['solid_zone', 'fluid_zone'],\n",
    "                      [('ux', 'uy', 'p'), ('vsx', 'vsy', 'dx', 'dy')]):\n",
    "    for field in fields:\n",
    "        bcs.append(\n",
    "            BoundaryCondition(field, 'dirichlet', zone, lambda x, y: 0.0)\n",
    "        )\n",
    "        bcs_homog.append(\n",
    "            BoundaryCondition(field, 'dirichlet', zone, lambda x, y: 0.0)\n",
    "        )"
   ]
  },
  {
   "cell_type": "code",
   "execution_count": 6,
   "id": "e12bd90e",
   "metadata": {},
   "outputs": [
    {
     "name": "stdout",
     "output_type": "stream",
     "text": [
      "Pinning pressure at the node closest to [0.2 0.2], found at [0.22  0.205]\n"
     ]
    }
   ],
   "source": [
    "# contraining the displacement and velocity of solid to zero for cyclinder center\n",
    "# 1. Define the target point.\n",
    "target_point = np.array([c_x,c_y])\n",
    "\n",
    "# 2. Get all node IDs that have a pressure DOF associated with them.\n",
    "pin_dofs = dof_handler.get_field_slice('vsx')\n",
    "pin_node_ids = np.array([dof_handler._dof_to_node_map[dof][1] for dof in pin_dofs])\n",
    "\n",
    "# 3. Get the coordinates of ONLY these pressure-carrying nodes.\n",
    "pin_node_coords = mesh.nodes_x_y_pos[pin_node_ids]\n",
    "\n",
    "# 4. Find the node closest to the target point WITHIN this restricted set.\n",
    "distances = np.linalg.norm(pin_node_coords - target_point, axis=1)\n",
    "local_index = np.argmin(distances)\n",
    "\n",
    "# 5. Get the global ID and actual coordinates of that specific pressure node.\n",
    "closest_p_node_id = pin_node_ids[local_index]\n",
    "actual_pin_coords = mesh.nodes_x_y_pos[closest_p_node_id]\n",
    "print(f\"Pinning pressure at the node closest to {target_point}, found at {actual_pin_coords}\")\n",
    "for field in ['vsx', 'vsy', 'dx', 'dy']:\n",
    "    name = 'pinning'\n",
    "    dof_handler.tag_dof_by_locator(\n",
    "        name, field,\n",
    "        locator=lambda x, y: np.isclose(x, actual_pin_coords[0]) and np.isclose(y, actual_pin_coords[1]),\n",
    "        find_first=True\n",
    "    )\n",
    "    bcs.append(\n",
    "        BoundaryCondition(field, 'dirichlet', name, lambda x, y: 0.0)\n",
    "    )\n",
    "    bcs_homog.append(\n",
    "        BoundaryCondition(field, 'dirichlet', name, lambda x, y: 0.0)\n",
    "    )\n"
   ]
  },
  {
   "cell_type": "code",
   "execution_count": 7,
   "id": "204d8afe",
   "metadata": {},
   "outputs": [
    {
     "name": "stdout",
     "output_type": "stream",
     "text": [
      "Total dirchlet dofs: 2636\n"
     ]
    }
   ],
   "source": [
    "print(f'Total dirchlet dofs: {len(dof_handler.get_dirichlet_data(bcs))}')"
   ]
  },
  {
   "cell_type": "code",
   "execution_count": 8,
   "id": "66911fa6",
   "metadata": {},
   "outputs": [
    {
     "data": {
      "image/png": "[encoded data removed]",
      "text/plain": [
       "<Figure size 1500x3000 with 1 Axes>"
      ]
     },
     "metadata": {},
     "output_type": "display_data"
    },
    {
     "data": {
      "text/plain": [
       "<Axes: title={'center': 'Mesh Visualization with Domain Tags'}>"
      ]
     },
     "execution_count": 8,
     "metadata": {},
     "output_type": "execute_result"
    }
   ],
   "source": [
    "from pycutfem.io.visualization import plot_mesh_2\n",
    "fig, ax = plt.subplots(figsize=(15, 30))\n",
    "plot_mesh_2(mesh, ax=ax, level_set=level_set, show=True, \n",
    "              plot_nodes=False, elem_tags=False, edge_colors=True, plot_interface=False,resolution=300)"
   ]
  },
  {
   "cell_type": "code",
   "execution_count": 9,
   "id": "4f966ae5",
   "metadata": {},
   "outputs": [
    {
     "name": "stdout",
     "output_type": "stream",
     "text": [
      "\n",
      "--- Defining the UFL weak form for Navier-Stokes with ghost penalty ---\n"
     ]
    }
   ],
   "source": [
    "# ============================================================================\n",
    "#    3. UFL FORMULATION WITH GHOST PENALTY\n",
    "# ============================================================================\n",
    "print(\"\\n--- Defining the UFL weak form for Navier-Stokes with ghost penalty ---\")\n",
    "\n",
    "# --- Function Spaces and Functions ---\n",
    "velocity_fluid_space = FunctionSpace(name=\"velocity_fluid\", field_names=['ux', 'uy'],dim=1)\n",
    "pressure_fluid_space = FunctionSpace(name=\"pressure_fluid\", field_names=['p'], dim=0)\n",
    "velocity_solid_space = FunctionSpace(name=\"velocity_solid\", field_names=['vsx', 'vsy'], dim=1)\n",
    "displacement_space = FunctionSpace(name=\"displacement\", field_names=['dx', 'dy'], dim=1)\n",
    "# Trial and Test functions\n",
    "du_f = VectorTrialFunction(space=velocity_fluid_space, dof_handler=dof_handler)\n",
    "dp_f = TrialFunction(name='trial_pressure_fluid', field_name='p', dof_handler=dof_handler)\n",
    "du_s = VectorTrialFunction(space=velocity_solid_space, dof_handler=dof_handler)\n",
    "ddisp_s = VectorTrialFunction(space=displacement_space, dof_handler=dof_handler)\n",
    "test_vel_f = VectorTestFunction(space=velocity_fluid_space, dof_handler=dof_handler)\n",
    "test_q_f = TestFunction(name='test_pressure_fluid', field_name='p', dof_handler=dof_handler)\n",
    "test_vel_s = VectorTestFunction(space=velocity_solid_space, dof_handler=dof_handler)\n",
    "test_disp_s = VectorTestFunction(space=displacement_space, dof_handler=dof_handler)\n",
    "\n",
    "# Solution functions at current (k) and previous (n) time steps\n",
    "uf_k = VectorFunction(name=\"u_f_k\", field_names=['ux', 'uy'], dof_handler=dof_handler)\n",
    "pf_k = Function(name=\"p_f_k\", field_name='p', dof_handler=dof_handler)\n",
    "uf_n = VectorFunction(name=\"u_f_n\", field_names=['ux', 'uy'], dof_handler=dof_handler)\n",
    "pf_n = Function(name=\"p_f_n\", field_name='p', dof_handler=dof_handler)\n",
    "us_k = VectorFunction(name=\"u_s_k\", field_names=['vsx', 'vsy'], dof_handler=dof_handler)\n",
    "us_n = VectorFunction(name=\"u_s_n\", field_names=['vsx', 'vsy'], dof_handler=dof_handler)\n",
    "disp_k = VectorFunction(name=\"disp_k\", field_names=['dx', 'dy'], dof_handler=dof_handler)\n",
    "disp_n = VectorFunction(name=\"disp_n\", field_names=['dx', 'dy'], dof_handler=dof_handler)\n",
    "\n",
    "# --- Parameters ---\n",
    "dt = Constant(0.2)\n",
    "theta = Constant(1.0) # Crank-Nicolson\n",
    "mu_f_const = Constant(mu_f)\n",
    "rho_f_const = Constant(rho_f)\n",
    "rho_s_const = Constant(rho_s)\n",
    "mu_s = Constant(_mu_s) # Lame's second parameter for solid\n",
    "lambda_s = Constant(_lambda_s)  # Lame's first parameter for solid\n",
    "\n",
    "uf_k.nodal_values.fill(0.0); pf_k.nodal_values.fill(0.0)\n",
    "uf_n.nodal_values.fill(0.0); pf_n.nodal_values.fill(0.0)\n",
    "us_k.nodal_values.fill(0.0); us_n.nodal_values.fill(0.0)\n",
    "disp_k.nodal_values.fill(0.0); disp_n.nodal_values.fill(0.0)\n",
    "dof_handler.apply_bcs(bcs, uf_n, pf_n, us_n, disp_n)"
   ]
  },
  {
   "cell_type": "code",
   "execution_count": 10,
   "id": "0ee43d09",
   "metadata": {},
   "outputs": [
    {
     "name": "stdout",
     "output_type": "stream",
     "text": [
      "Plotting all components of 'u_f_n' as separate contour plots...\n"
     ]
    },
    {
     "data": {
      "image/png": "[encoded data removed]",
      "text/plain": [
       "<Figure size 640x480 with 2 Axes>"
      ]
     },
     "metadata": {},
     "output_type": "display_data"
    },
    {
     "data": {
      "image/png": "[encoded data removed]",
      "text/plain": [
       "<Figure size 640x480 with 2 Axes>"
      ]
     },
     "metadata": {},
     "output_type": "display_data"
    }
   ],
   "source": [
    "uf_n.plot()"
   ]
  },
  {
   "cell_type": "code",
   "execution_count": null,
   "id": "d384cdd3",
   "metadata": {},
   "outputs": [],
   "source": [
    "from pycutfem.ufl.expressions import Derivative, FacetNormal, trace, Jump\n",
    "n = FacetNormal()                    # vector expression (n_x, n_y)\n",
    "\n",
    "def _dn(expr):\n",
    "    \"\"\"Normal derivative  n·∇expr  on an (interior) edge.\"\"\"\n",
    "    Dx = Derivative(expr, 1, 0)\n",
    "    Dy = Derivative(expr, 0, 1)\n",
    "    _ = Dx + Dy\n",
    "    return n[0]*Dx + n[1]*Dy\n",
    "\n",
    "def grad_inner(u, v):\n",
    "    \"\"\"⟨∂ₙu, ∂ₙv⟩  (scalar or 2‑D vector).\"\"\"\n",
    "    if getattr(u, \"num_components\", 1) == 1:      # scalar\n",
    "        return _dn(u) * _dn(v)\n",
    "\n",
    "    if u.num_components == v.num_components == 2: # vector\n",
    "        return _dn(u[0]) * _dn(v[0]) + _dn(u[1]) * _dn(v[1])\n",
    "\n",
    "    raise ValueError(\"grad_inner supports only scalars or 2‑D vectors.\")\n",
    "\n",
    "def hessian_inner(u, v):\n",
    "    if getattr(u, \"num_components\", 1) == 1:      # scalar\n",
    "        return _hess_comp(u, v)\n",
    "\n",
    "    # vector: sum component-wise\n",
    "    return sum(_hess_comp(u[i], v[i]) for i in range(u.num_components))\n",
    "\n",
    "\n",
    "def _hess_comp(a, b):\n",
    "    return (Derivative(a,2,0)*Derivative(b,2,0) +\n",
    "            2*Derivative(a,1,1)*Derivative(b,1,1) +\n",
    "            Derivative(a,0,2)*Derivative(b,0,2))\n",
    "\n",
    "dx_fluid  = dx(defined_on=fluid_interface_domain,level_set=level_set,\n",
    "               metadata={\"q\":6, \"side\": \"+\"})               # volume\n",
    "dx_solid  = dx(defined_on=solid_interface_domain,level_set=level_set,\n",
    "               metadata={\"q\":6, \"side\": \"-\"})               # volume\n",
    "dΓ        = dInterface(defined_on=mesh.element_bitset('cut'), level_set=level_set, metadata={\"q\":5,'derivs': {(0,0),(0,1),(1,0)}})   # interior surface\n",
    "dG_fluid       = dGhost(defined_on=fluid_ghost_edges, level_set=level_set,metadata={\"q\":6,'derivs': {(0,0),(0,1),(1,0),(2,0),(0,2),(1,1)}})  # ghost fluid surface\n",
    "dG_solid       = dGhost(defined_on=solid_ghost_edges, level_set=level_set,metadata={\"q\":6,'derivs': {(0,0),(0,1),(1,0),(2,0),(0,2),(1,1)}})  # ghost solid surface\n",
    "\n",
    "cell_h  = CellDiameter() # length‑scale per element\n",
    "beta_N  = Constant(10.0 * poly_order**2)      # Nitsche penalty (tweak)\n",
    "\n",
    "def epsilon_f(u):\n",
    "    \"Symmetric gradient.\"\n",
    "    return 0.5 * (grad(u) + grad(u).T)\n",
    "def epsilon_s_linear_L(disp,disp_k):\n",
    "    return 0.5 * (  grad(disp) + grad(disp).T  + dot(grad(disp).T,grad(disp_k)) + dot(grad(disp_k).T,grad(disp))  ) \n",
    "def epsilon_s_linear_R(disp_k):\n",
    "    \"\"\"\n",
    "    Right-hand side of the linearized solid strain tensor.\n",
    "    \"\"\"\n",
    "    return 0.5 * (grad(disp_k) + grad(disp_k).T + dot(grad(disp_k).T,  grad(disp_k)) )\n",
    "\n",
    "def sigma_s_linear_weak_L(ddisp,disp_k, grad_v_test):\n",
    "    \"\"\"\n",
    "    Linearized solid stress tensor.\n",
    "    \"\"\"\n",
    "    return 2.0 * mu_s * inner(epsilon_s_linear_L(ddisp, disp_k),grad_v_test) + lambda_s * trace(epsilon_s_linear_L(ddisp, disp_k))  * trace(grad_v_test)\n",
    "def sigma_s_linear_weak_R(disp_k, grad_v_test):\n",
    "    \"\"\"\n",
    "    Right-hand side of the linearized solid stress tensor.\n",
    "    \"\"\"\n",
    "    return 2.0 * mu_s * inner(epsilon_s_linear_R(disp_k),grad_v_test) + lambda_s * trace(epsilon_s_linear_R(disp_k))  * trace(grad_v_test)\n",
    "\n",
    "def sigma_dot_n_v(u_vec, p_scal,v_test,n):\n",
    "    \"\"\"\n",
    "    Expanded form of (σ(u, p) · n) without using the '@' operator.\n",
    "\n",
    "        σ(u, p)·n = μ (∇u + ∇uᵀ)·n  −  p n\n",
    "    \"\"\"\n",
    "    # first term: μ (∇u)·n\n",
    "    a = dot(grad(u_vec), n)\n",
    "    # second term: μ (∇uᵀ)·n\n",
    "    b = dot(grad(u_vec).T, n)\n",
    "    # combine and subtract pressure part\n",
    "    return  mu_f * dot((a + b),v_test) - p_scal * dot(v_test,n)         # vector of size 2\n",
    "\n",
    "# --- Jacobian contribution on Γsolid --------------------------------\n",
    "J_int = (\n",
    "    - sigma_dot_n_v(du_f, dp_f, Jump(test_vel_f, test_vel_s),n)           # consistency\n",
    "    - sigma_dot_n_v(Jump(test_vel_f, test_vel_s), test_q_f, Jump(du_f, du_s), n)           # symmetry\n",
    "    + beta_N * mu_f / cell_h * dot(Jump(du_f, du_s), Jump(test_vel_f, test_vel_s))     # penalty\n",
    ") * dΓ\n",
    "\n",
    "# --- Residual contribution on Γsolid --------------------------------\n",
    "R_int = (\n",
    "    - sigma_dot_n_v(uf_k, pf_k, Jump(test_vel_f, test_vel_s),n)\n",
    "    - sigma_dot_n_v(Jump(test_vel_f, test_vel_s), test_q_f, Jump(uf_k, us_k), n) # I removed - test_q_f\n",
    "    + beta_N * mu_f / cell_h * dot(Jump(uf_k,us_k), Jump(test_vel_f , test_vel_s))\n",
    ") * dΓ\n",
    "\n",
    "# volume -------------------fluid--------------------------------\n",
    "a_vol_f = ( rho_f*dot(du_f,test_vel_f)/dt\n",
    "          + theta*rho_f*dot(dot(grad(uf_k), du_f), test_vel_f)\n",
    "          + theta*rho_f*dot(dot(grad(du_f), uf_k), test_vel_f)\n",
    "          + theta*mu_f*inner(grad(du_f), grad(test_vel_f))\n",
    "          - dp_f*div(test_vel_f) + test_q_f*div(du_f) ) * dx_fluid\n",
    "\n",
    "\n",
    "r_vol_f = ( rho_f*dot(uf_k-uf_n, test_vel_f)/dt\n",
    "          + theta*rho_f*dot(dot(grad(uf_k), uf_k), test_vel_f)\n",
    "          + (1-theta)*rho_f*dot(dot(grad(uf_n), uf_n), test_vel_f)\n",
    "          + theta*mu_f*inner(grad(uf_k), grad(test_vel_f))\n",
    "          + (1-theta)*mu_f*inner(grad(uf_n), grad(test_vel_f))\n",
    "          - pf_k*div(test_vel_f) + test_q_f*div(uf_k) ) * dx_fluid\n",
    "\n",
    "# volume -------------------solid--------------------------------\n",
    "a_vol_s = ( rho_s*dot(du_s,test_vel_s)/dt\n",
    "        #   + theta*rho_s*dot(dot(grad(us_k), du_s), test_vel_s)\n",
    "        #   + theta*rho_s*dot(dot(grad(du_s), us_k), test_vel_s)\n",
    "          + theta*sigma_s_linear_weak_L(ddisp_s, disp_k, grad(test_vel_s))\n",
    "           ) * dx_solid\n",
    "\n",
    "\n",
    "r_vol_s = ( rho_s * dot(us_k-us_n, test_vel_s)/dt\n",
    "        #   + theta * rho_s * dot(dot(grad(us_k), us_k), test_vel_s)\n",
    "        #   + (1-theta) * rho_s * dot(dot(grad(us_n), us_n), test_vel_s)\n",
    "          + theta * sigma_s_linear_weak_R(disp_k, grad(test_vel_s))\n",
    "          + (1-theta) * sigma_s_linear_weak_R(disp_n, grad(test_vel_s))\n",
    "           ) * dx_solid\n",
    "# --- solid disp and solid velocity constraint --------------------------------\n",
    "# \\frac{D}{Dt} disp_s = \\frac{\\partial}{\\partialt} disp_s + (v_s^k \\cdot \\nabla) disp_s\n",
    "a_svc = (\n",
    "    dot(ddisp_s, test_disp_s)/dt \n",
    "    - theta * dot(du_s, test_disp_s)\n",
    "    # + theta * dot( dot(grad(ddisp_s), us_k), test_disp_s)\n",
    "    # + theta * dot( dot(grad(disp_k), du_s) , test_disp_s)\n",
    ") * dx_solid\n",
    "r_svc = (    dot(disp_k-disp_n, test_disp_s)/dt \n",
    "    - theta * dot(us_k, test_disp_s)\n",
    "    - (1-theta) * dot(us_n, test_disp_s)\n",
    "    # + theta * dot(dot(grad(disp_k), us_k), test_disp_s)\n",
    "    # + (1-theta) * dot(dot(grad(disp_n), us_n), test_disp_s)\n",
    ") * dx_solid\n",
    "\n",
    "# ghost stabilisation (add exactly as in your Poisson tests) --------\n",
    "penalty_val = 1e-3\n",
    "penalty_grad = 1e-3\n",
    "penalty_hess = 1e-3\n",
    "gamma_v = Constant(penalty_val * poly_order**2)\n",
    "gamma_v_grad= Constant(penalty_grad * poly_order**2)\n",
    "gamma_p  = Constant(penalty_val * poly_order**1)\n",
    "gama_p_grad = Constant(penalty_grad * poly_order**1)\n",
    "def g_v_f(gamma, phi_1, phi_2):\n",
    "    return (\n",
    "        gamma * (\n",
    "            cell_h * grad_inner(jump(phi_1), jump(phi_2)) \n",
    "            + cell_h**3.0/4.0   * hessian_inner(jump(phi_1), jump(phi_2))\n",
    "        )\n",
    "    )\n",
    "def g_p(gamma, phi_1, phi_2):\n",
    "    return (\n",
    "        gamma * (\n",
    "            cell_h**3.0 * grad_inner(jump(phi_1), jump(phi_2)) \n",
    "        )\n",
    "    )\n",
    "def g_v_s(gamma, phi_1, phi_2):\n",
    "    return (\n",
    "        gamma * (\n",
    "            cell_h**3.0 * grad_inner(jump(phi_1), jump(phi_2)) \n",
    "        )\n",
    "    )\n",
    "def g_disp_s(gamma, phi_1, phi_2):\n",
    "    return (\n",
    "        gamma * (\n",
    "            cell_h * grad_inner(jump(phi_1), jump(phi_2)) \n",
    "        )\n",
    "    )\n",
    "\n",
    "\n",
    "a_stab = (\n",
    "    (\n",
    "    Constant(2.0) * mu_f_const * g_v_f(gamma_v, du_f, test_vel_f)\n",
    "    + g_p(gamma_p, dp_f, test_q_f)\n",
    "    ) * dG_fluid + \n",
    "    (\n",
    "    rho_s_const * g_v_s(gamma_v, du_s, test_vel_s)\n",
    "    + Constant(2.0) * mu_s * g_disp_s(gamma_v_grad, ddisp_s, test_disp_s)\n",
    "    ) * dG_solid\n",
    ")\n",
    "r_stab = (\n",
    "    (\n",
    "    Constant(2.0) * mu_f_const * g_v_f(gamma_v, uf_k, test_vel_f)\n",
    "    + g_p(gamma_p, pf_k, test_q_f)\n",
    "    ) * dG_fluid + \n",
    "    (\n",
    "    rho_s_const * g_v_s(gamma_v, us_k, test_vel_s)\n",
    "    + Constant(2.0) * mu_s * g_disp_s(gamma_v_grad, disp_k, test_disp_s)\n",
    "    ) * dG_solid\n",
    ")\n",
    "# complete Jacobian and residual -----------------------------------\n",
    "jacobian_form  = a_vol_f + J_int + a_vol_s + a_svc + a_stab\n",
    "residual_form  = r_vol_f + R_int + r_vol_s + r_svc + r_stab\n",
    "# residual_form  = dot(  Constant(np.array([0.0, 0.0]),dim=1), v) * dx\n",
    "# jacobian_form  = a_vol_f + a_vol_s + a_svc + a_stab\n",
    "# residual_form  = r_vol_f + r_vol_s + r_svc + r_stab\n",
    "\n",
    "\n",
    "\n"
   ]
  },
  {
   "cell_type": "code",
   "execution_count": 12,
   "id": "dc2c7818",
   "metadata": {},
   "outputs": [
    {
     "name": "stdout",
     "output_type": "stream",
     "text": [
      "rm: cannot remove '/home/jamal/.cache/pycutfem_jit/__pycache__': Is a directory\n"
     ]
    }
   ],
   "source": [
    "!rm ~/.cache/pycutfem_jit/*"
   ]
  },
  {
   "cell_type": "code",
   "execution_count": 13,
   "id": "be62892b",
   "metadata": {},
   "outputs": [],
   "source": [
    "# from pycutfem.ufl.forms import assemble_form\n",
    "# K,F=assemble_form(jacobian_form==-residual_form, dof_handler=dof_handler, bcs=bcs_homog)\n",
    "# print(np.linalg.norm(F, ord=np.inf))"
   ]
  },
  {
   "cell_type": "code",
   "execution_count": 14,
   "id": "c84c844d",
   "metadata": {},
   "outputs": [
    {
     "name": "stdout",
     "output_type": "stream",
     "text": [
      "JIT cache miss → compiling _pycutfem_kernel_8aef616c76522d039538916831979b11ffa76f3ce7acc2d7ee00c61e3165e9f5.py\n",
      "Precomputing geometric factors for quad elements with quad_order=6 and p=2...\n",
      "points shape: (33, 2), weights shape: (33,)\n",
      "JIT cache miss → compiling _pycutfem_kernel_45c7e70dad0d935d407d15745154876f2e04cd6a6e923c02bcd74131810e3117.py\n",
      "JIT cache miss → compiling _pycutfem_kernel_3fd5700bd87c9b2f575d7be51428a580d8deee5404878160f07f01822faf967c.py\n",
      "JIT cache miss → compiling _pycutfem_kernel_1237428b69eaf56b475d5610f3fb8bc8e9acd3daeb4a3aae099dfd874c8957d5.py\n",
      "JIT cache miss → compiling _pycutfem_kernel_a09c5313ec77db69de86cc1906d6eff04f857490530c870e96657a02459ee547.py\n",
      "JIT cache miss → compiling _pycutfem_kernel_8784bd5683d9e50faef5f77c6ac54ccbeb784e1652d60205e2166e9d4141db79.py\n",
      "JIT cache miss → compiling _pycutfem_kernel_0cc0770d7c867a896608b269c5845f714015ee1c389e7c3644edc06607273b9f.py\n",
      "JIT cache miss → compiling _pycutfem_kernel_212ae7d7cb8972510da8d8726db6965ae35c294fc6ed7dbaf2a984d17fb263e4.py\n",
      "JIT cache miss → compiling _pycutfem_kernel_917c7bcdbc49df1dcf856e5761e4982d9f59a8187d0da8c0f60a61ad31c5d3d9.py\n",
      "JIT cache miss → compiling _pycutfem_kernel_f3013dbb21ef700d13476bd5e110825046bc02ec7ea91e27684a75850e31beb3.py\n",
      "JIT cache miss → compiling _pycutfem_kernel_2bc8943f40bb4d930a8aeefa32174cb677423137bca3bc5f56bfaaaa601f4eef.py\n",
      "JIT cache miss → compiling _pycutfem_kernel_d026b0689ec56b9d29828e97847bd9a4f452ae1ac1bb77673d470b65c304a0ea.py\n",
      "No Restriction operators found. All DOFs are considered active.\n",
      "NewtonSolver: Reduced system with 5239/7875 DOFs.\n",
      "  Dirichlet DOFs detected: 2636; Free DOFs: 5239\n",
      "        Newton 1: |R|_∞ = 1.43e-02\n",
      "        Line search failed – no descent.\n",
      "        Newton 2: |R|_∞ = 1.43e-02\n",
      "        Line search failed – no descent.\n",
      "        Newton 3: |R|_∞ = 1.43e-02\n",
      "        Line search failed – no descent.\n",
      "        Newton 4: |R|_∞ = 1.43e-02\n",
      "        Line search failed – no descent.\n",
      "        Newton 5: |R|_∞ = 1.43e-02\n",
      "        Line search failed – no descent.\n",
      "        Newton 6: |R|_∞ = 1.43e-02\n",
      "        Line search failed – no descent.\n",
      "        Newton 7: |R|_∞ = 1.43e-02\n",
      "        Line search failed – no descent.\n",
      "        Newton 8: |R|_∞ = 1.43e-02\n",
      "        Line search failed – no descent.\n",
      "        Newton 9: |R|_∞ = 1.43e-02\n",
      "        Line search failed – no descent.\n",
      "        Newton 10: |R|_∞ = 1.43e-02\n"
     ]
    },
    {
     "ename": "KeyboardInterrupt",
     "evalue": "",
     "output_type": "error",
     "traceback": [
      "\u001b[31m---------------------------------------------------------------------------\u001b[39m",
      "\u001b[31mKeyboardInterrupt\u001b[39m                         Traceback (most recent call last)",
      "\u001b[36mCell\u001b[39m\u001b[36m \u001b[39m\u001b[32mIn[14]\u001b[39m\u001b[32m, line 41\u001b[39m\n\u001b[32m     23\u001b[39m prev_functions = [uf_n, pf_n, us_n, disp_n]\n\u001b[32m     24\u001b[39m \u001b[38;5;66;03m# solver = AdamNewtonSolver(\u001b[39;00m\n\u001b[32m     25\u001b[39m \u001b[38;5;66;03m#     residual_form, jacobian_form,\u001b[39;00m\n\u001b[32m     26\u001b[39m \u001b[38;5;66;03m#     dof_handler=dof_handler,\u001b[39;00m\n\u001b[32m   (...)\u001b[39m\u001b[32m     36\u001b[39m \u001b[38;5;66;03m#     newton_params=NewtonParameters(newton_tol=1e-6),\u001b[39;00m\n\u001b[32m     37\u001b[39m \u001b[38;5;66;03m# )\u001b[39;00m\n\u001b[32m---> \u001b[39m\u001b[32m41\u001b[39m \u001b[43msolver\u001b[49m\u001b[43m.\u001b[49m\u001b[43msolve_time_interval\u001b[49m\u001b[43m(\u001b[49m\u001b[43mfunctions\u001b[49m\u001b[43m=\u001b[49m\u001b[43mfunctions\u001b[49m\u001b[43m,\u001b[49m\n\u001b[32m     42\u001b[39m \u001b[43m                           \u001b[49m\u001b[43mprev_functions\u001b[49m\u001b[43m=\u001b[49m\u001b[43m \u001b[49m\u001b[43mprev_functions\u001b[49m\u001b[43m,\u001b[49m\n\u001b[32m     43\u001b[39m \u001b[43m                           \u001b[49m\u001b[43mtime_params\u001b[49m\u001b[43m=\u001b[49m\u001b[43mtime_params\u001b[49m\u001b[43m,\u001b[49m\u001b[43m)\u001b[49m\n",
      "\u001b[36mFile \u001b[39m\u001b[32m~/Documents/pycutfem/pycutfem/solvers/nonlinear_solver.py:424\u001b[39m, in \u001b[36mNewtonSolver.solve_time_interval\u001b[39m\u001b[34m(self, functions, prev_functions, time_params, aux_functions, post_step_refiner)\u001b[39m\n\u001b[32m    421\u001b[39m dh.apply_bcs(bcs_now, *functions)\n\u001b[32m    423\u001b[39m \u001b[38;5;66;03m# Newton loop -----------------------------------------\u001b[39;00m\n\u001b[32m--> \u001b[39m\u001b[32m424\u001b[39m delta_U = \u001b[38;5;28;43mself\u001b[39;49m\u001b[43m.\u001b[49m\u001b[43m_newton_loop\u001b[49m\u001b[43m(\u001b[49m\u001b[43mfunctions\u001b[49m\u001b[43m,\u001b[49m\u001b[43m \u001b[49m\u001b[43mprev_functions\u001b[49m\u001b[43m,\u001b[49m\u001b[43m \u001b[49m\u001b[43maux_functions\u001b[49m\u001b[43m,\u001b[49m\u001b[43m \u001b[49m\u001b[43mbcs_now\u001b[49m\u001b[43m)\u001b[49m\n\u001b[32m    425\u001b[39m \u001b[38;5;28mprint\u001b[39m(\u001b[33mf\u001b[39m\u001b[33m\"\u001b[39m\u001b[33m    Time step \u001b[39m\u001b[38;5;132;01m{\u001b[39;00mstep+\u001b[32m1\u001b[39m\u001b[38;5;132;01m}\u001b[39;00m\u001b[33m: ΔU = \u001b[39m\u001b[38;5;132;01m{\u001b[39;00mnp.linalg.norm(delta_U,\u001b[38;5;250m \u001b[39m\u001b[38;5;28mord\u001b[39m=np.inf)\u001b[38;5;132;01m:\u001b[39;00m\u001b[33m.2e\u001b[39m\u001b[38;5;132;01m}\u001b[39;00m\u001b[33m\"\u001b[39m)\n\u001b[32m    427\u001b[39m \u001b[38;5;66;03m# Post-step refiner (VI clip) **before** promotion so prev matches clipped state\u001b[39;00m\n",
      "\u001b[36mFile \u001b[39m\u001b[32m~/Documents/pycutfem/pycutfem/solvers/nonlinear_solver.py:533\u001b[39m, in \u001b[36mNewtonSolver._newton_loop\u001b[39m\u001b[34m(self, funcs, prev_funcs, aux_funcs, bcs_now)\u001b[39m\n\u001b[32m    531\u001b[39m \u001b[38;5;66;03m# 3) Optional Armijo backtracking in reduced space (no BC re-application inside)\u001b[39;00m\n\u001b[32m    532\u001b[39m \u001b[38;5;28;01mif\u001b[39;00m \u001b[38;5;28mgetattr\u001b[39m(\u001b[38;5;28mself\u001b[39m.np, \u001b[33m\"\u001b[39m\u001b[33mline_search\u001b[39m\u001b[33m\"\u001b[39m, \u001b[38;5;28;01mFalse\u001b[39;00m):\n\u001b[32m--> \u001b[39m\u001b[32m533\u001b[39m     dU_red = \u001b[38;5;28;43mself\u001b[39;49m\u001b[43m.\u001b[49m\u001b[43m_line_search_reduced\u001b[49m\u001b[43m(\u001b[49m\u001b[43mA_red\u001b[49m\u001b[43m,\u001b[49m\u001b[43m \u001b[49m\u001b[43mR_red\u001b[49m\u001b[43m,\u001b[49m\u001b[43m \u001b[49m\u001b[43mdU_red\u001b[49m\u001b[43m,\u001b[49m\u001b[43m \u001b[49m\u001b[43mfuncs\u001b[49m\u001b[43m,\u001b[49m\u001b[43m \u001b[49m\u001b[43mcurrent\u001b[49m\u001b[43m,\u001b[49m\u001b[43m \u001b[49m\u001b[43mbcs_now\u001b[49m\u001b[43m)\u001b[49m\n\u001b[32m    535\u001b[39m \u001b[38;5;66;03m# 4) Apply accepted step: expand reduced → full, update fields, then re-impose BCs\u001b[39;00m\n\u001b[32m    536\u001b[39m dU_full = np.zeros(ndof)\n",
      "\u001b[36mFile \u001b[39m\u001b[32m~/Documents/pycutfem/pycutfem/solvers/nonlinear_solver.py:585\u001b[39m, in \u001b[36mNewtonSolver._line_search_reduced\u001b[39m\u001b[34m(self, A_red, R_red, S_red, funcs, coeffs, bcs_now)\u001b[39m\n\u001b[32m    582\u001b[39m dh.apply_bcs(bcs_now, *funcs)\n\u001b[32m    584\u001b[39m \u001b[38;5;66;03m# Evaluate residual in reduced space (matrix not needed)\u001b[39;00m\n\u001b[32m--> \u001b[39m\u001b[32m585\u001b[39m _, R_try = \u001b[38;5;28;43mself\u001b[39;49m\u001b[43m.\u001b[49m\u001b[43m_assemble_system_reduced\u001b[49m\u001b[43m(\u001b[49m\u001b[43mcoeffs\u001b[49m\u001b[43m,\u001b[49m\u001b[43m \u001b[49m\u001b[43mneed_matrix\u001b[49m\u001b[43m=\u001b[49m\u001b[38;5;28;43;01mFalse\u001b[39;49;00m\u001b[43m)\u001b[49m\n\u001b[32m    586\u001b[39m phi = \u001b[32m0.5\u001b[39m * \u001b[38;5;28mfloat\u001b[39m(R_try @ R_try)\n\u001b[32m    588\u001b[39m \u001b[38;5;66;03m# Track best effort\u001b[39;00m\n",
      "\u001b[36mFile \u001b[39m\u001b[32m~/Documents/pycutfem/pycutfem/solvers/nonlinear_solver.py:625\u001b[39m, in \u001b[36mNewtonSolver._assemble_system_reduced\u001b[39m\u001b[34m(self, coeffs, need_matrix)\u001b[39m\n\u001b[32m    623\u001b[39m         rmap = \u001b[38;5;28mself\u001b[39m.full_to_red[gdofs[e]]\n\u001b[32m    624\u001b[39m         m = rmap >= \u001b[32m0\u001b[39m\n\u001b[32m--> \u001b[39m\u001b[32m625\u001b[39m         \u001b[38;5;28;01mif\u001b[39;00m \u001b[43mnp\u001b[49m\u001b[43m.\u001b[49m\u001b[43many\u001b[49m\u001b[43m(\u001b[49m\u001b[43mm\u001b[49m\u001b[43m)\u001b[49m:\n\u001b[32m    626\u001b[39m             np.add.at(R_red, rmap[m], Floc[e][m])\n\u001b[32m    627\u001b[39m \u001b[38;5;28;01mreturn\u001b[39;00m \u001b[38;5;28;01mNone\u001b[39;00m, R_red\n",
      "\u001b[36mFile \u001b[39m\u001b[32m~/anaconda3/envs/pycutfem/lib/python3.11/site-packages/numpy/_core/fromnumeric.py:2472\u001b[39m, in \u001b[36m_any_dispatcher\u001b[39m\u001b[34m(a, axis, out, keepdims, where)\u001b[39m\n\u001b[32m   2464\u001b[39m         \u001b[38;5;28;01mreturn\u001b[39;00m res\n\u001b[32m   2466\u001b[39m     \u001b[38;5;28;01mreturn\u001b[39;00m _wrapreduction(\n\u001b[32m   2467\u001b[39m         a, np.add, \u001b[33m'\u001b[39m\u001b[33msum\u001b[39m\u001b[33m'\u001b[39m, axis, dtype, out,\n\u001b[32m   2468\u001b[39m         keepdims=keepdims, initial=initial, where=where\n\u001b[32m   2469\u001b[39m     )\n\u001b[32m-> \u001b[39m\u001b[32m2472\u001b[39m \u001b[38;5;28;01mdef\u001b[39;00m\u001b[38;5;250m \u001b[39m\u001b[34m_any_dispatcher\u001b[39m(a, axis=\u001b[38;5;28;01mNone\u001b[39;00m, out=\u001b[38;5;28;01mNone\u001b[39;00m, keepdims=\u001b[38;5;28;01mNone\u001b[39;00m, *,\n\u001b[32m   2473\u001b[39m                     where=np._NoValue):\n\u001b[32m   2474\u001b[39m     \u001b[38;5;28;01mreturn\u001b[39;00m (a, where, out)\n\u001b[32m   2477\u001b[39m \u001b[38;5;129m@array_function_dispatch\u001b[39m(_any_dispatcher)\n\u001b[32m   2478\u001b[39m \u001b[38;5;28;01mdef\u001b[39;00m\u001b[38;5;250m \u001b[39m\u001b[34many\u001b[39m(a, axis=\u001b[38;5;28;01mNone\u001b[39;00m, out=\u001b[38;5;28;01mNone\u001b[39;00m, keepdims=np._NoValue, *, where=np._NoValue):\n",
      "\u001b[31mKeyboardInterrupt\u001b[39m: "
     ]
    }
   ],
   "source": [
    "from pycutfem.solvers.nonlinear_solver import NewtonSolver, NewtonParameters, TimeStepperParameters, AdamNewtonSolver\n",
    "from pycutfem.solvers.aainhb_solver import AAINHBSolver           # or get_solver(\"aainhb\")\n",
    "\n",
    "uf_k.nodal_values.fill(0.0); pf_k.nodal_values.fill(0.0)\n",
    "uf_n.nodal_values.fill(0.0); pf_n.nodal_values.fill(0.0)\n",
    "us_k.nodal_values.fill(0.0); us_n.nodal_values.fill(0.0)\n",
    "disp_k.nodal_values.fill(0.0); disp_n.nodal_values.fill(0.0)\n",
    "dof_handler.apply_bcs(bcs, uf_n, pf_n, us_n, disp_n)\n",
    "dof_handler.apply_bcs(bcs, uf_k, pf_k, us_k, disp_k)\n",
    "\n",
    "# build residual_form, jacobian_form, dof_handler, mixed_element, bcs, bcs_homog …\n",
    "time_params = TimeStepperParameters(dt=dt.value,max_steps=36 ,stop_on_steady=True, steady_tol=1e-6, theta= theta.value)\n",
    "\n",
    "solver = NewtonSolver(\n",
    "    residual_form, jacobian_form,\n",
    "    dof_handler=dof_handler,\n",
    "    mixed_element=mixed_element,\n",
    "    bcs=bcs, bcs_homog=bcs_homog,\n",
    "    newton_params=NewtonParameters(newton_tol=1e-6, line_search=True),\n",
    ")\n",
    "# primary unknowns\n",
    "functions      = [uf_k, pf_k, us_k, disp_k]\n",
    "prev_functions = [uf_n, pf_n, us_n, disp_n]\n",
    "# solver = AdamNewtonSolver(\n",
    "#     residual_form, jacobian_form,\n",
    "#     dof_handler=dof_handler,\n",
    "#     mixed_element=mixed_element,\n",
    "#     bcs=bcs, bcs_homog=bcs_homog,\n",
    "#     newton_params=NewtonParameters(newton_tol=1e-6)\n",
    "# )\n",
    "# solver = AAINHBSolver(\n",
    "#     residual_form, jacobian_form,\n",
    "#     dof_handler=dof_handler,\n",
    "#     mixed_element=mixed_element,\n",
    "#     bcs=bcs, bcs_homog=bcs_homog,\n",
    "#     newton_params=NewtonParameters(newton_tol=1e-6),\n",
    "# )\n",
    "\n",
    "\n",
    "\n",
    "solver.solve_time_interval(functions=functions,\n",
    "                           prev_functions= prev_functions,\n",
    "                           time_params=time_params,)"
   ]
  },
  {
   "cell_type": "code",
   "execution_count": null,
   "id": "7ee383db",
   "metadata": {},
   "outputs": [
    {
     "data": {
      "image/png": "[encoded data removed]",
      "text/plain": [
       "<Figure size 800x800 with 2 Axes>"
      ]
     },
     "metadata": {},
     "output_type": "display_data"
    }
   ],
   "source": [
    "uf_n.plot(kind=\"streamline\",\n",
    "         density=4.0,\n",
    "         linewidth=0.8,\n",
    "         cmap=\"plasma\",\n",
    "         title=\"Turek-Schafer\",background = False)"
   ]
  }
 ],
 "metadata": {
  "kernelspec": {
   "display_name": "pycutfem",
   "language": "python",
   "name": "python3"
  },
  "language_info": {
   "codemirror_mode": {
    "name": "ipython",
    "version": 3
   },
   "file_extension": ".py",
   "mimetype": "text/x-python",
   "name": "python",
   "nbconvert_exporter": "python",
   "pygments_lexer": "ipython3",
   "version": "3.13.5"
  }
 },
 "nbformat": 4,
 "nbformat_minor": 5
}
